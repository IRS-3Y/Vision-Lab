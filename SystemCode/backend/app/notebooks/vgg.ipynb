{
 "metadata": {
  "language_info": {
   "codemirror_mode": {
    "name": "ipython",
    "version": 3
   },
   "file_extension": ".py",
   "mimetype": "text/x-python",
   "name": "python",
   "nbconvert_exporter": "python",
   "pygments_lexer": "ipython3",
   "version": "3.8.5-final"
  },
  "orig_nbformat": 2,
  "kernelspec": {
   "name": "Python 3.8.5 64-bit",
   "display_name": "Python 3.8.5 64-bit",
   "metadata": {
    "interpreter": {
     "hash": "b099101340937c6e29ac01ebf8dce2e8a5ebbf91477ab6ba73fb75b47e785f51"
    }
   }
  }
 },
 "nbformat": 4,
 "nbformat_minor": 2,
 "cells": [
  {
   "cell_type": "code",
   "execution_count": null,
   "metadata": {},
   "outputs": [],
   "source": [
    "import setup_env\n",
    "from app.datasets import experiment as ds\n",
    "from app.models import vgg16 as md, build_csv_logger, build_model_checkpoint\n",
    "from app.metrics import report, dataset_to_numpy"
   ]
  },
  {
   "cell_type": "code",
   "execution_count": null,
   "metadata": {},
   "outputs": [],
   "source": [
    "BATCH_SIZE = 32\n",
    "TRAIN_BATCHES = -1\n",
    "VALID_BATCHES = -1"
   ]
  },
  {
   "cell_type": "code",
   "execution_count": null,
   "metadata": {
    "tags": []
   },
   "outputs": [],
   "source": [
    "(ds_trn, ds_val) = ds.load_dataset(\n",
    "    image_size=md.IMAGE_SIZE, \n",
    "    batch_size=BATCH_SIZE, \n",
    "    training_take=TRAIN_BATCHES, \n",
    "    validation_take=VALID_BATCHES)\n",
    "    \n",
    "(X, y) = dataset_to_numpy(ds_val)"
   ]
  },
  {
   "cell_type": "code",
   "execution_count": null,
   "metadata": {
    "tags": []
   },
   "outputs": [],
   "source": [
    "model = md.build_model()\n",
    "model.summary()"
   ]
  },
  {
   "cell_type": "code",
   "execution_count": null,
   "metadata": {
    "tags": []
   },
   "outputs": [],
   "source": [
    "callbacks = [\n",
    "  build_csv_logger(md.MODEL_NAME),\n",
    "  build_model_checkpoint(md.MODEL_NAME)\n",
    "]\n",
    "model.fit(ds_trn, validation_data=ds_val, epochs=10, shuffle=True, callbacks=callbacks)"
   ]
  },
  {
   "cell_type": "code",
   "execution_count": null,
   "metadata": {
    "tags": []
   },
   "outputs": [],
   "source": [
    "model_go = md.load_model()\n",
    "predicts = model_go.predict(X)\n",
    "report(y, predicts, ds.CLASS_NAMES)"
   ]
  },
  {
   "cell_type": "code",
   "execution_count": null,
   "metadata": {},
   "outputs": [],
   "source": []
  }
 ]
}