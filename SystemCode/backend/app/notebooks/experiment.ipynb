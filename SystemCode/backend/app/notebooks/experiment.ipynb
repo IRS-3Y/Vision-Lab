{
 "metadata": {
  "language_info": {
   "codemirror_mode": {
    "name": "ipython",
    "version": 3
   },
   "file_extension": ".py",
   "mimetype": "text/x-python",
   "name": "python",
   "nbconvert_exporter": "python",
   "pygments_lexer": "ipython3",
   "version": "3.8.5-final"
  },
  "orig_nbformat": 2,
  "kernelspec": {
   "name": "python_defaultSpec_1600680905123",
   "display_name": "Python 3.8.5 64-bit ('pylab': conda)"
  }
 },
 "nbformat": 4,
 "nbformat_minor": 2,
 "cells": [
  {
   "cell_type": "code",
   "execution_count": 1,
   "metadata": {
    "tags": []
   },
   "outputs": [],
   "source": [
    "import os\n",
    "\n",
    "import tensorflow as tf\n",
    "\n",
    "from setup_env import dir_work\n",
    "from app.datasets import experiment as ds\n",
    "from app.models import experiment as md, build_csv_logger, build_model_checkpoint"
   ]
  },
  {
   "cell_type": "code",
   "execution_count": 2,
   "metadata": {},
   "outputs": [],
   "source": [
    "BATCH_SIZE = 200"
   ]
  },
  {
   "cell_type": "code",
   "execution_count": 3,
   "metadata": {
    "tags": []
   },
   "outputs": [
    {
     "output_type": "stream",
     "name": "stdout",
     "text": "Found 28061 files belonging to 2 classes.\nUsing 22449 files for training.\nFound 28061 files belonging to 2 classes.\nUsing 5612 files for validation.\n"
    }
   ],
   "source": [
    "(ds_trn, ds_val) = ds.load_dataset(image_size=md.IMAGE_SIZE, batch_size=BATCH_SIZE)"
   ]
  },
  {
   "cell_type": "code",
   "execution_count": 4,
   "metadata": {
    "tags": []
   },
   "outputs": [
    {
     "output_type": "stream",
     "name": "stdout",
     "text": "Model: \"sequential\"\n_________________________________________________________________\nLayer (type)                 Output Shape              Param #   \n=================================================================\nrescaling (Rescaling)        (None, 128, 128, 3)       0         \n_________________________________________________________________\nconv2d (Conv2D)              (None, 128, 128, 32)      896       \n_________________________________________________________________\nconv2d_1 (Conv2D)            (None, 128, 128, 32)      9248      \n_________________________________________________________________\nmax_pooling2d (MaxPooling2D) (None, 64, 64, 32)        0         \n_________________________________________________________________\nconv2d_2 (Conv2D)            (None, 64, 64, 48)        13872     \n_________________________________________________________________\nconv2d_3 (Conv2D)            (None, 64, 64, 48)        20784     \n_________________________________________________________________\nmax_pooling2d_1 (MaxPooling2 (None, 32, 32, 48)        0         \n_________________________________________________________________\nconv2d_4 (Conv2D)            (None, 32, 32, 64)        27712     \n_________________________________________________________________\nconv2d_5 (Conv2D)            (None, 32, 32, 64)        36928     \n_________________________________________________________________\ndropout (Dropout)            (None, 32, 32, 64)        0         \n_________________________________________________________________\nflatten (Flatten)            (None, 65536)             0         \n_________________________________________________________________\ndense (Dense)                (None, 256)               16777472  \n_________________________________________________________________\ndense_1 (Dense)              (None, 2)                 514       \n=================================================================\nTotal params: 16,887,426\nTrainable params: 16,887,426\nNon-trainable params: 0\n_________________________________________________________________\n"
    }
   ],
   "source": [
    "model = md.build_model()\n",
    "model.summary()"
   ]
  },
  {
   "cell_type": "code",
   "execution_count": 5,
   "metadata": {
    "tags": []
   },
   "outputs": [
    {
     "output_type": "stream",
     "name": "stdout",
     "text": "Epoch 1/20\n 2/75 [..............................] - ETA: 9s - loss: 9.3594 - accuracy: 0.4900WARNING:tensorflow:Callbacks method `on_train_batch_end` is slow compared to the batch time (batch time: 0.0800s vs `on_train_batch_end` time: 0.1730s). Check your callbacks.\n75/75 [==============================] - 55s 735ms/step - loss: 0.9172 - accuracy: 0.5684 - val_loss: 0.5951 - val_accuracy: 0.6780\nEpoch 2/20\n75/75 [==============================] - 21s 274ms/step - loss: 0.6037 - accuracy: 0.6942 - val_loss: 0.5155 - val_accuracy: 0.7436\nEpoch 3/20\n75/75 [==============================] - 21s 274ms/step - loss: 0.5108 - accuracy: 0.7519 - val_loss: 0.4650 - val_accuracy: 0.7685\nEpoch 4/20\n75/75 [==============================] - 21s 273ms/step - loss: 0.4776 - accuracy: 0.7741 - val_loss: 0.4093 - val_accuracy: 0.8143\nEpoch 5/20\n75/75 [==============================] - 21s 274ms/step - loss: 0.4413 - accuracy: 0.8005 - val_loss: 0.3755 - val_accuracy: 0.8318\nEpoch 6/20\n75/75 [==============================] - 20s 269ms/step - loss: 0.3710 - accuracy: 0.8363 - val_loss: 0.4355 - val_accuracy: 0.8115\nEpoch 7/20\n75/75 [==============================] - 21s 275ms/step - loss: 0.3297 - accuracy: 0.8571 - val_loss: 0.3174 - val_accuracy: 0.8713\nEpoch 8/20\n75/75 [==============================] - 20s 270ms/step - loss: 0.2744 - accuracy: 0.8825 - val_loss: 0.5112 - val_accuracy: 0.8256\nEpoch 9/20\n75/75 [==============================] - 21s 274ms/step - loss: 0.2405 - accuracy: 0.9020 - val_loss: 0.2703 - val_accuracy: 0.8917\nEpoch 10/20\n75/75 [==============================] - 20s 273ms/step - loss: 0.1923 - accuracy: 0.9222 - val_loss: 0.2543 - val_accuracy: 0.9038\nEpoch 11/20\n75/75 [==============================] - 20s 273ms/step - loss: 0.1628 - accuracy: 0.9376 - val_loss: 0.2584 - val_accuracy: 0.9045\nEpoch 12/20\n75/75 [==============================] - 19s 250ms/step - loss: 0.1271 - accuracy: 0.9508 - val_loss: 0.2626 - val_accuracy: 0.9134\nEpoch 13/20\n75/75 [==============================] - 18s 238ms/step - loss: 0.1102 - accuracy: 0.9612 - val_loss: 0.2794 - val_accuracy: 0.9123\nEpoch 14/20\n75/75 [==============================] - 18s 244ms/step - loss: 0.0933 - accuracy: 0.9698 - val_loss: 0.3122 - val_accuracy: 0.9191\nEpoch 15/20\n75/75 [==============================] - 18s 243ms/step - loss: 0.0605 - accuracy: 0.9802 - val_loss: 0.3761 - val_accuracy: 0.9196\nEpoch 16/20\n75/75 [==============================] - 18s 239ms/step - loss: 0.0871 - accuracy: 0.9798 - val_loss: 0.3850 - val_accuracy: 0.9104\nEpoch 17/20\n75/75 [==============================] - 18s 239ms/step - loss: 0.0442 - accuracy: 0.9860 - val_loss: 0.4087 - val_accuracy: 0.9184\nEpoch 18/20\n75/75 [==============================] - 18s 239ms/step - loss: 0.0966 - accuracy: 0.9771 - val_loss: 0.2954 - val_accuracy: 0.9179\nEpoch 19/20\n75/75 [==============================] - 18s 239ms/step - loss: 0.1363 - accuracy: 0.9841 - val_loss: 0.3595 - val_accuracy: 0.9180\nEpoch 20/20\n75/75 [==============================] - 18s 239ms/step - loss: 0.0482 - accuracy: 0.9898 - val_loss: 0.4818 - val_accuracy: 0.9163\n"
    },
    {
     "output_type": "execute_result",
     "data": {
      "text/plain": "<tensorflow.python.keras.callbacks.History at 0x202148b4700>"
     },
     "metadata": {},
     "execution_count": 5
    }
   ],
   "source": [
    "callbacks = [\n",
    "  build_csv_logger(md.MODEL_NAME),\n",
    "  build_model_checkpoint(md.MODEL_NAME)\n",
    "]\n",
    "model.fit(ds_trn, validation_data=ds_val, epochs=20, shuffle=True, callbacks=callbacks)"
   ]
  },
  {
   "cell_type": "code",
   "execution_count": null,
   "metadata": {},
   "outputs": [],
   "source": []
  }
 ]
}