{
 "metadata": {
  "language_info": {
   "codemirror_mode": {
    "name": "ipython",
    "version": 3
   },
   "file_extension": ".py",
   "mimetype": "text/x-python",
   "name": "python",
   "nbconvert_exporter": "python",
   "pygments_lexer": "ipython3",
   "version": "3.8.5-final"
  },
  "orig_nbformat": 2,
  "kernelspec": {
   "name": "python_defaultSpec_1600529119513",
   "display_name": "Python 3.8.5 64-bit"
  }
 },
 "nbformat": 4,
 "nbformat_minor": 2,
 "cells": [
  {
   "cell_type": "code",
   "execution_count": 1,
   "metadata": {
    "tags": []
   },
   "outputs": [],
   "source": [
    "import os\n",
    "\n",
    "import tensorflow as tf\n",
    "\n",
    "from setup_env import dir_work\n",
    "from app.datasets import experiment as ds\n",
    "from app.models import experiment as md, build_csv_logger, build_model_checkpoint"
   ]
  },
  {
   "cell_type": "code",
   "execution_count": 2,
   "metadata": {},
   "outputs": [],
   "source": [
    "IMAGE_SIZE = 128\n",
    "BATCH_SIZE = 200"
   ]
  },
  {
   "cell_type": "code",
   "execution_count": 3,
   "metadata": {
    "tags": []
   },
   "outputs": [
    {
     "output_type": "stream",
     "name": "stdout",
     "text": "Found 2041 files belonging to 2 classes.\nUsing 1633 files for training.\nFound 2041 files belonging to 2 classes.\nUsing 408 files for validation.\n"
    }
   ],
   "source": [
    "(ds_trn, ds_val) = ds.load_dataset(image_size=IMAGE_SIZE, batch_size=BATCH_SIZE)"
   ]
  },
  {
   "cell_type": "code",
   "execution_count": 4,
   "metadata": {
    "tags": []
   },
   "outputs": [
    {
     "output_type": "stream",
     "name": "stdout",
     "text": "Model: \"sequential\"\n_________________________________________________________________\nLayer (type)                 Output Shape              Param #   \n=================================================================\nresizing (Resizing)          (None, 128, 128, 3)       0         \n_________________________________________________________________\nrescaling (Rescaling)        (None, 128, 128, 3)       0         \n_________________________________________________________________\nconv2d (Conv2D)              (None, 128, 128, 32)      896       \n_________________________________________________________________\nconv2d_1 (Conv2D)            (None, 128, 128, 32)      9248      \n_________________________________________________________________\nmax_pooling2d (MaxPooling2D) (None, 64, 64, 32)        0         \n_________________________________________________________________\nconv2d_2 (Conv2D)            (None, 64, 64, 48)        13872     \n_________________________________________________________________\nconv2d_3 (Conv2D)            (None, 64, 64, 48)        20784     \n_________________________________________________________________\nmax_pooling2d_1 (MaxPooling2 (None, 32, 32, 48)        0         \n_________________________________________________________________\nconv2d_4 (Conv2D)            (None, 32, 32, 64)        27712     \n_________________________________________________________________\nconv2d_5 (Conv2D)            (None, 32, 32, 64)        36928     \n_________________________________________________________________\ndropout (Dropout)            (None, 32, 32, 64)        0         \n_________________________________________________________________\nflatten (Flatten)            (None, 65536)             0         \n_________________________________________________________________\ndense (Dense)                (None, 256)               16777472  \n_________________________________________________________________\ndense_1 (Dense)              (None, 2)                 514       \n=================================================================\nTotal params: 16,887,426\nTrainable params: 16,887,426\nNon-trainable params: 0\n_________________________________________________________________\n"
    }
   ],
   "source": [
    "model = md.build_model(image_size=IMAGE_SIZE)\n",
    "model.summary()"
   ]
  },
  {
   "cell_type": "code",
   "execution_count": 5,
   "metadata": {
    "tags": []
   },
   "outputs": [
    {
     "output_type": "stream",
     "name": "stdout",
     "text": "Epoch 1/20\n2/9 [=====>........................] - ETA: 0s - loss: 6.7820 - accuracy: 0.4950WARNING:tensorflow:Callbacks method `on_train_batch_end` is slow compared to the batch time (batch time: 0.0640s vs `on_train_batch_end` time: 0.1330s). Check your callbacks.\n9/9 [==============================] - 5s 608ms/step - loss: 2.2094 - accuracy: 0.4825 - val_loss: 0.6932 - val_accuracy: 0.4804\nEpoch 2/20\n9/9 [==============================] - 2s 213ms/step - loss: 0.6929 - accuracy: 0.5340 - val_loss: 0.6928 - val_accuracy: 0.5221\nEpoch 3/20\n9/9 [==============================] - 2s 175ms/step - loss: 0.6920 - accuracy: 0.5462 - val_loss: 0.6937 - val_accuracy: 0.4853\nEpoch 4/20\n9/9 [==============================] - 1s 165ms/step - loss: 0.6924 - accuracy: 0.5364 - val_loss: 0.7003 - val_accuracy: 0.4804\nEpoch 5/20\n9/9 [==============================] - 1s 163ms/step - loss: 0.6986 - accuracy: 0.5236 - val_loss: 0.6924 - val_accuracy: 0.4926\nEpoch 6/20\n9/9 [==============================] - 2s 218ms/step - loss: 0.6905 - accuracy: 0.5695 - val_loss: 0.6910 - val_accuracy: 0.5245\nEpoch 7/20\n9/9 [==============================] - 1s 164ms/step - loss: 0.7004 - accuracy: 0.5566 - val_loss: 0.7469 - val_accuracy: 0.4804\nEpoch 8/20\n9/9 [==============================] - 2s 202ms/step - loss: 0.6954 - accuracy: 0.5499 - val_loss: 0.6889 - val_accuracy: 0.5392\nEpoch 9/20\n9/9 [==============================] - 1s 164ms/step - loss: 0.7094 - accuracy: 0.5481 - val_loss: 0.6914 - val_accuracy: 0.5172\nEpoch 10/20\n9/9 [==============================] - 1s 163ms/step - loss: 0.6990 - accuracy: 0.5726 - val_loss: 0.7183 - val_accuracy: 0.4804\nEpoch 11/20\n9/9 [==============================] - 1s 165ms/step - loss: 0.6880 - accuracy: 0.5775 - val_loss: 0.6941 - val_accuracy: 0.5221\nEpoch 12/20\n9/9 [==============================] - 1s 166ms/step - loss: 0.6765 - accuracy: 0.5781 - val_loss: 0.7312 - val_accuracy: 0.5172\nEpoch 13/20\n9/9 [==============================] - 2s 210ms/step - loss: 0.6884 - accuracy: 0.5805 - val_loss: 0.6915 - val_accuracy: 0.5417\nEpoch 14/20\n9/9 [==============================] - 2s 168ms/step - loss: 0.6626 - accuracy: 0.6136 - val_loss: 0.7220 - val_accuracy: 0.5221\nEpoch 15/20\n9/9 [==============================] - 1s 167ms/step - loss: 0.6848 - accuracy: 0.6111 - val_loss: 0.7100 - val_accuracy: 0.5098\nEpoch 16/20\n9/9 [==============================] - 1s 166ms/step - loss: 0.6738 - accuracy: 0.6209 - val_loss: 0.7836 - val_accuracy: 0.5294\nEpoch 17/20\n9/9 [==============================] - 2s 222ms/step - loss: 0.6503 - accuracy: 0.6418 - val_loss: 0.7615 - val_accuracy: 0.5711\nEpoch 18/20\n9/9 [==============================] - 2s 167ms/step - loss: 0.6565 - accuracy: 0.6418 - val_loss: 0.7465 - val_accuracy: 0.5613\nEpoch 19/20\n9/9 [==============================] - 1s 166ms/step - loss: 0.5960 - accuracy: 0.6761 - val_loss: 0.8428 - val_accuracy: 0.5588\nEpoch 20/20\n9/9 [==============================] - 1s 166ms/step - loss: 0.5876 - accuracy: 0.6944 - val_loss: 0.8149 - val_accuracy: 0.5515\n"
    },
    {
     "output_type": "execute_result",
     "data": {
      "text/plain": "<tensorflow.python.keras.callbacks.History at 0x2058bcfa790>"
     },
     "metadata": {},
     "execution_count": 5
    }
   ],
   "source": [
    "callbacks = [\n",
    "  build_csv_logger(md.MODEL_NAME),\n",
    "  build_model_checkpoint(md.MODEL_NAME)\n",
    "]\n",
    "model.fit(ds_trn, validation_data=ds_val, epochs=20, shuffle=True, callbacks=callbacks)"
   ]
  },
  {
   "cell_type": "code",
   "execution_count": null,
   "metadata": {},
   "outputs": [],
   "source": []
  }
 ]
}