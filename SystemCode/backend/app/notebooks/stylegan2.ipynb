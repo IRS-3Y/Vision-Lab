{
 "metadata": {
  "language_info": {
   "codemirror_mode": {
    "name": "ipython",
    "version": 3
   },
   "file_extension": ".py",
   "mimetype": "text/x-python",
   "name": "python",
   "nbconvert_exporter": "python",
   "pygments_lexer": "ipython3",
   "version": "3.7.9-final"
  },
  "orig_nbformat": 2,
  "kernelspec": {
   "name": "Python 3.7.9 64-bit ('tf1': conda)",
   "display_name": "Python 3.7.9 64-bit ('tf1': conda)",
   "metadata": {
    "interpreter": {
     "hash": "30e743a91258e37b3c6a6d2da0482467f59686e8a174ecfa4b976b45b3ad9340"
    }
   }
  }
 },
 "nbformat": 4,
 "nbformat_minor": 2,
 "cells": [
  {
   "cell_type": "code",
   "execution_count": null,
   "metadata": {},
   "outputs": [],
   "source": [
    "import setup_env\n",
    "import app.models.stylegan2 as md\n",
    "from app.images import plot_image"
   ]
  },
  {
   "cell_type": "code",
   "execution_count": null,
   "metadata": {},
   "outputs": [],
   "source": [
    "img = md.generate_image('generator_yellow-stylegan2-config-f')\n",
    "plot_image(img['uuid'], img['type'], md.MODEL_NAME)"
   ]
  },
  {
   "cell_type": "code",
   "execution_count": null,
   "metadata": {},
   "outputs": [],
   "source": []
  }
 ]
}