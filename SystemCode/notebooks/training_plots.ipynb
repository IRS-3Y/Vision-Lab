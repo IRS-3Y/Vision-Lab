{
 "metadata": {
  "language_info": {
   "codemirror_mode": {
    "name": "ipython",
    "version": 3
   },
   "file_extension": ".py",
   "mimetype": "text/x-python",
   "name": "python",
   "nbconvert_exporter": "python",
   "pygments_lexer": "ipython3",
   "version": "3.8.5-final"
  },
  "orig_nbformat": 2,
  "kernelspec": {
   "name": "Python 3.8.5 64-bit ('pylab': conda)",
   "display_name": "Python 3.8.5 64-bit ('pylab': conda)",
   "metadata": {
    "interpreter": {
     "hash": "b099101340937c6e29ac01ebf8dce2e8a5ebbf91477ab6ba73fb75b47e785f51"
    }
   }
  }
 },
 "nbformat": 4,
 "nbformat_minor": 2,
 "cells": [
  {
   "cell_type": "code",
   "execution_count": null,
   "metadata": {},
   "outputs": [],
   "source": [
    "import pandas as pd\n",
    "import matplotlib.pyplot as plt"
   ]
  },
  {
   "cell_type": "code",
   "execution_count": null,
   "metadata": {},
   "outputs": [],
   "source": [
    "records = pd.read_csv('../backend/instance/models/vgg19/20201031_025632.csv')\n",
    "\n",
    "plt.figure()\n",
    "\n",
    "ax = plt.subplot(211)\n",
    "plt.plot(records['val_loss'],label=\"validation\")\n",
    "plt.plot(records['loss'],label=\"training\")\n",
    "plt.title('Loss',fontsize=12)\n",
    "ax.set_xticklabels([])\n",
    "ax.legend()\n",
    "\n",
    "ax = plt.subplot(212)\n",
    "plt.plot(records['val_accuracy'],label=\"validation\")\n",
    "plt.plot(records['accuracy'],label=\"training\")\n",
    "plt.title('Accuracy',fontsize=12)\n",
    "ax.legend()\n",
    "\n",
    "plt.show()"
   ]
  },
  {
   "cell_type": "code",
   "execution_count": null,
   "metadata": {},
   "outputs": [],
   "source": []
  }
 ]
}